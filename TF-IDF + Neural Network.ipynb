{
 "cells": [
  {
   "cell_type": "markdown",
   "id": "cf840819",
   "metadata": {},
   "source": [
    "Cell 1 – Import Library"
   ]
  },
  {
   "cell_type": "code",
   "execution_count": 1,
   "id": "f6d966e4",
   "metadata": {},
   "outputs": [],
   "source": [
    "import pandas as pd\n",
    "from sklearn.model_selection import train_test_split\n",
    "from sklearn.feature_extraction.text import TfidfVectorizer\n",
    "from sklearn.preprocessing import LabelEncoder\n",
    "from sklearn.metrics import accuracy_score\n",
    "import tensorflow as tf\n",
    "from tensorflow.keras import layers, models"
   ]
  },
  {
   "cell_type": "markdown",
   "id": "be46f115",
   "metadata": {},
   "source": [
    "Cell 2 – Load Dataset"
   ]
  },
  {
   "cell_type": "code",
   "execution_count": 2,
   "id": "11611a65",
   "metadata": {},
   "outputs": [
    {
     "data": {
      "text/html": [
       "<div>\n",
       "<style scoped>\n",
       "    .dataframe tbody tr th:only-of-type {\n",
       "        vertical-align: middle;\n",
       "    }\n",
       "\n",
       "    .dataframe tbody tr th {\n",
       "        vertical-align: top;\n",
       "    }\n",
       "\n",
       "    .dataframe thead th {\n",
       "        text-align: right;\n",
       "    }\n",
       "</style>\n",
       "<table border=\"1\" class=\"dataframe\">\n",
       "  <thead>\n",
       "    <tr style=\"text-align: right;\">\n",
       "      <th></th>\n",
       "      <th>title</th>\n",
       "      <th>text</th>\n",
       "      <th>subject</th>\n",
       "      <th>date</th>\n",
       "      <th>label</th>\n",
       "    </tr>\n",
       "  </thead>\n",
       "  <tbody>\n",
       "    <tr>\n",
       "      <th>0</th>\n",
       "      <td>As U.S. budget fight looms, Republicans flip t...</td>\n",
       "      <td>WASHINGTON (Reuters) - The head of a conservat...</td>\n",
       "      <td>politicsNews</td>\n",
       "      <td>December 31, 2017</td>\n",
       "      <td>1</td>\n",
       "    </tr>\n",
       "    <tr>\n",
       "      <th>1</th>\n",
       "      <td>U.S. military to accept transgender recruits o...</td>\n",
       "      <td>WASHINGTON (Reuters) - Transgender people will...</td>\n",
       "      <td>politicsNews</td>\n",
       "      <td>December 29, 2017</td>\n",
       "      <td>1</td>\n",
       "    </tr>\n",
       "    <tr>\n",
       "      <th>2</th>\n",
       "      <td>Senior U.S. Republican senator: 'Let Mr. Muell...</td>\n",
       "      <td>WASHINGTON (Reuters) - The special counsel inv...</td>\n",
       "      <td>politicsNews</td>\n",
       "      <td>December 31, 2017</td>\n",
       "      <td>1</td>\n",
       "    </tr>\n",
       "    <tr>\n",
       "      <th>3</th>\n",
       "      <td>FBI Russia probe helped by Australian diplomat...</td>\n",
       "      <td>WASHINGTON (Reuters) - Trump campaign adviser ...</td>\n",
       "      <td>politicsNews</td>\n",
       "      <td>December 30, 2017</td>\n",
       "      <td>1</td>\n",
       "    </tr>\n",
       "    <tr>\n",
       "      <th>4</th>\n",
       "      <td>Trump wants Postal Service to charge 'much mor...</td>\n",
       "      <td>SEATTLE/WASHINGTON (Reuters) - President Donal...</td>\n",
       "      <td>politicsNews</td>\n",
       "      <td>December 29, 2017</td>\n",
       "      <td>1</td>\n",
       "    </tr>\n",
       "  </tbody>\n",
       "</table>\n",
       "</div>"
      ],
      "text/plain": [
       "                                               title  \\\n",
       "0  As U.S. budget fight looms, Republicans flip t...   \n",
       "1  U.S. military to accept transgender recruits o...   \n",
       "2  Senior U.S. Republican senator: 'Let Mr. Muell...   \n",
       "3  FBI Russia probe helped by Australian diplomat...   \n",
       "4  Trump wants Postal Service to charge 'much mor...   \n",
       "\n",
       "                                                text       subject  \\\n",
       "0  WASHINGTON (Reuters) - The head of a conservat...  politicsNews   \n",
       "1  WASHINGTON (Reuters) - Transgender people will...  politicsNews   \n",
       "2  WASHINGTON (Reuters) - The special counsel inv...  politicsNews   \n",
       "3  WASHINGTON (Reuters) - Trump campaign adviser ...  politicsNews   \n",
       "4  SEATTLE/WASHINGTON (Reuters) - President Donal...  politicsNews   \n",
       "\n",
       "                 date  label  \n",
       "0  December 31, 2017       1  \n",
       "1  December 29, 2017       1  \n",
       "2  December 31, 2017       1  \n",
       "3  December 30, 2017       1  \n",
       "4  December 29, 2017       1  "
      ]
     },
     "execution_count": 2,
     "metadata": {},
     "output_type": "execute_result"
    }
   ],
   "source": [
    "df_true = pd.read_csv(\"True.csv\")\n",
    "df_false = pd.read_csv(\"Fake.csv\")\n",
    "\n",
    "# Tambahkan label\n",
    "df_true['label'] = 1\n",
    "df_false['label'] = 0\n",
    "\n",
    "# Gabungkan dataset\n",
    "data = pd.concat([df_true, df_false], ignore_index=True)\n",
    "\n",
    "# Tampilkan beberapa data pertama\n",
    "data.head()"
   ]
  },
  {
   "cell_type": "markdown",
   "id": "c0d80ec9",
   "metadata": {},
   "source": [
    "Cell 3 – Split Features & Labels"
   ]
  },
  {
   "cell_type": "code",
   "execution_count": 3,
   "id": "b6f2b6ba",
   "metadata": {},
   "outputs": [],
   "source": [
    "X = data['text']  # kolom teks\n",
    "y = data['label']\n",
    "\n",
    "# Split train/test\n",
    "X_train, X_test, y_train, y_test = train_test_split(\n",
    "    X, y, test_size=0.2, random_state=42\n",
    ")"
   ]
  },
  {
   "cell_type": "markdown",
   "id": "765dba4f",
   "metadata": {},
   "source": [
    "Cell 4 – TF-IDF Vectorization"
   ]
  },
  {
   "cell_type": "code",
   "execution_count": 4,
   "id": "5faf8dd9",
   "metadata": {},
   "outputs": [],
   "source": [
    "vectorizer = TfidfVectorizer(max_features=5000)\n",
    "X_train_vect = vectorizer.fit_transform(X_train).toarray()\n",
    "X_test_vect = vectorizer.transform(X_test).toarray()\n"
   ]
  },
  {
   "cell_type": "markdown",
   "id": "e37c1a73",
   "metadata": {},
   "source": [
    "Cell 5 – Neural Network"
   ]
  },
  {
   "cell_type": "code",
   "execution_count": 5,
   "id": "b439a6ff",
   "metadata": {},
   "outputs": [
    {
     "name": "stderr",
     "output_type": "stream",
     "text": [
      "/Users/dila/anaconda3/envs/newenv/lib/python3.11/site-packages/keras/src/layers/core/dense.py:92: UserWarning: Do not pass an `input_shape`/`input_dim` argument to a layer. When using Sequential models, prefer using an `Input(shape)` object as the first layer in the model instead.\n",
      "  super().__init__(activity_regularizer=activity_regularizer, **kwargs)\n"
     ]
    }
   ],
   "source": [
    "model = models.Sequential([\n",
    "    layers.Dense(128, activation='relu', input_shape=(X_train_vect.shape[1],)),\n",
    "    layers.Dense(64, activation='relu'),\n",
    "    layers.Dense(1, activation='sigmoid')\n",
    "])\n",
    "\n",
    "model.compile(optimizer='adam', loss='binary_crossentropy', metrics=['accuracy'])\n"
   ]
  },
  {
   "cell_type": "markdown",
   "id": "b5186828",
   "metadata": {},
   "source": [
    "Cell 6 – Train Model"
   ]
  },
  {
   "cell_type": "code",
   "execution_count": 6,
   "id": "6f47ee31",
   "metadata": {},
   "outputs": [
    {
     "name": "stdout",
     "output_type": "stream",
     "text": [
      "Epoch 1/10\n",
      "\u001b[1m898/898\u001b[0m \u001b[32m━━━━━━━━━━━━━━━━━━━━\u001b[0m\u001b[37m\u001b[0m \u001b[1m3s\u001b[0m 3ms/step - accuracy: 0.9777 - loss: 0.0782 - val_accuracy: 0.9901 - val_loss: 0.0308\n",
      "Epoch 2/10\n",
      "\u001b[1m898/898\u001b[0m \u001b[32m━━━━━━━━━━━━━━━━━━━━\u001b[0m\u001b[37m\u001b[0m \u001b[1m2s\u001b[0m 3ms/step - accuracy: 0.9963 - loss: 0.0137 - val_accuracy: 0.9898 - val_loss: 0.0315\n",
      "Epoch 3/10\n",
      "\u001b[1m898/898\u001b[0m \u001b[32m━━━━━━━━━━━━━━━━━━━━\u001b[0m\u001b[37m\u001b[0m \u001b[1m2s\u001b[0m 2ms/step - accuracy: 0.9984 - loss: 0.0055 - val_accuracy: 0.9886 - val_loss: 0.0412\n",
      "Epoch 4/10\n",
      "\u001b[1m898/898\u001b[0m \u001b[32m━━━━━━━━━━━━━━━━━━━━\u001b[0m\u001b[37m\u001b[0m \u001b[1m2s\u001b[0m 2ms/step - accuracy: 0.9988 - loss: 0.0040 - val_accuracy: 0.9820 - val_loss: 0.0815\n",
      "Epoch 5/10\n",
      "\u001b[1m898/898\u001b[0m \u001b[32m━━━━━━━━━━━━━━━━━━━━\u001b[0m\u001b[37m\u001b[0m \u001b[1m2s\u001b[0m 2ms/step - accuracy: 0.9991 - loss: 0.0030 - val_accuracy: 0.9887 - val_loss: 0.0472\n",
      "Epoch 6/10\n",
      "\u001b[1m898/898\u001b[0m \u001b[32m━━━━━━━━━━━━━━━━━━━━\u001b[0m\u001b[37m\u001b[0m \u001b[1m2s\u001b[0m 2ms/step - accuracy: 0.9995 - loss: 0.0016 - val_accuracy: 0.9861 - val_loss: 0.0658\n",
      "Epoch 7/10\n",
      "\u001b[1m898/898\u001b[0m \u001b[32m━━━━━━━━━━━━━━━━━━━━\u001b[0m\u001b[37m\u001b[0m \u001b[1m2s\u001b[0m 2ms/step - accuracy: 0.9992 - loss: 0.0025 - val_accuracy: 0.9844 - val_loss: 0.0842\n",
      "Epoch 8/10\n",
      "\u001b[1m898/898\u001b[0m \u001b[32m━━━━━━━━━━━━━━━━━━━━\u001b[0m\u001b[37m\u001b[0m \u001b[1m2s\u001b[0m 2ms/step - accuracy: 0.9987 - loss: 0.0037 - val_accuracy: 0.9891 - val_loss: 0.0464\n",
      "Epoch 9/10\n",
      "\u001b[1m898/898\u001b[0m \u001b[32m━━━━━━━━━━━━━━━━━━━━\u001b[0m\u001b[37m\u001b[0m \u001b[1m2s\u001b[0m 2ms/step - accuracy: 0.9993 - loss: 0.0017 - val_accuracy: 0.9897 - val_loss: 0.0528\n",
      "Epoch 10/10\n",
      "\u001b[1m898/898\u001b[0m \u001b[32m━━━━━━━━━━━━━━━━━━━━\u001b[0m\u001b[37m\u001b[0m \u001b[1m2s\u001b[0m 2ms/step - accuracy: 0.9995 - loss: 0.0015 - val_accuracy: 0.9893 - val_loss: 0.0503\n"
     ]
    }
   ],
   "source": [
    "history = model.fit(\n",
    "    X_train_vect, y_train, \n",
    "    epochs=10, batch_size=32, validation_split=0.2\n",
    ")\n"
   ]
  },
  {
   "cell_type": "markdown",
   "id": "ccf00bb7",
   "metadata": {},
   "source": [
    "Cell 7 – Evaluation"
   ]
  },
  {
   "cell_type": "code",
   "execution_count": 7,
   "id": "91ac8fd5",
   "metadata": {},
   "outputs": [
    {
     "name": "stdout",
     "output_type": "stream",
     "text": [
      "\u001b[1m281/281\u001b[0m \u001b[32m━━━━━━━━━━━━━━━━━━━━\u001b[0m\u001b[37m\u001b[0m \u001b[1m0s\u001b[0m 558us/step - accuracy: 0.9903 - loss: 0.0462\n",
      "Akurasi TF-IDF NN: 0.9903118014335632\n"
     ]
    }
   ],
   "source": [
    "loss, accuracy = model.evaluate(X_test_vect, y_test)\n",
    "print(\"Akurasi TF-IDF NN:\", accuracy)"
   ]
  },
  {
   "cell_type": "markdown",
   "id": "016596ee",
   "metadata": {},
   "source": [
    "Cell 8 – Example Prediction"
   ]
  },
  {
   "cell_type": "code",
   "execution_count": 15,
   "id": "a5d2ece4",
   "metadata": {},
   "outputs": [
    {
     "name": "stdout",
     "output_type": "stream",
     "text": [
      "\u001b[1m1/1\u001b[0m \u001b[32m━━━━━━━━━━━━━━━━━━━━\u001b[0m\u001b[37m\u001b[0m \u001b[1m0s\u001b[0m 16ms/step\n",
      "Prediksi (0=Fake, 1=True): 7.199151e-06\n",
      "Prediksi: FAKE News ❌\n"
     ]
    }
   ],
   "source": [
    "sample_news = [\"Breaking: Scientists discover new planet in our solar system!\"]\n",
    "sample_vect = vectorizer.transform(sample_news).toarray()\n",
    "prediction = model.predict(sample_vect)\n",
    "print(\"Prediksi (0=Fake, 1=True):\", prediction[0][0])\n",
    "if prediction[0][0] > 0.5:\n",
    "    print(\"Prediksi: TRUE News ✅\")\n",
    "else:\n",
    "    print(\"Prediksi: FAKE News ❌\")"
   ]
  },
  {
   "cell_type": "markdown",
   "id": "d0fdc503",
   "metadata": {},
   "source": [
    "A Comparative Study of the Most Frequent Subjects in Verified versus Fake News"
   ]
  },
  {
   "cell_type": "markdown",
   "id": "f121bbb8",
   "metadata": {},
   "source": [
    "1️⃣ Check columns"
   ]
  },
  {
   "cell_type": "code",
   "execution_count": 9,
   "id": "d4a23bfa",
   "metadata": {},
   "outputs": [
    {
     "name": "stdout",
     "output_type": "stream",
     "text": [
      "Index(['title', 'text', 'subject', 'date', 'label'], dtype='object')\n"
     ]
    }
   ],
   "source": [
    "import pandas as pd\n",
    "\n",
    "# Load dataset gabungan\n",
    "df_true = pd.read_csv(\"True.csv\")\n",
    "df_false = pd.read_csv(\"Fake.csv\")\n",
    "df_true['label'] = 1\n",
    "df_false['label'] = 0\n",
    "data = pd.concat([df_true, df_false], ignore_index=True)\n",
    "\n",
    "# Lihat kolom apa saja\n",
    "print(data.columns)\n"
   ]
  },
  {
   "cell_type": "markdown",
   "id": "21c2d7ea",
   "metadata": {},
   "source": [
    "2️⃣ If there is a 'subject' column"
   ]
  },
  {
   "cell_type": "code",
   "execution_count": 10,
   "id": "9e19faee",
   "metadata": {},
   "outputs": [
    {
     "name": "stdout",
     "output_type": "stream",
     "text": [
      "Distribusi topik berita True:\n",
      "subject\n",
      "politicsNews    11272\n",
      "worldnews       10145\n",
      "Name: count, dtype: int64\n",
      "\n",
      "Distribusi topik berita Fake:\n",
      "subject\n",
      "News               9050\n",
      "politics           6841\n",
      "left-news          4459\n",
      "Government News    1570\n",
      "US_News             783\n",
      "Middle-east         778\n",
      "Name: count, dtype: int64\n"
     ]
    }
   ],
   "source": [
    "# Distribusi topik berita True\n",
    "print(\"Distribusi topik berita True:\")\n",
    "print(data[data['label']==1]['subject'].value_counts())\n",
    "\n",
    "# Distribusi topik berita Fake\n",
    "print(\"\\nDistribusi topik berita Fake:\")\n",
    "print(data[data['label']==0]['subject'].value_counts())\n"
   ]
  },
  {
   "cell_type": "code",
   "execution_count": 11,
   "id": "a6197414",
   "metadata": {},
   "outputs": [
    {
     "data": {
      "image/png": "[encoded data removed]",
      "text/plain": [
       "<Figure size 800x500 with 1 Axes>"
      ]
     },
     "metadata": {},
     "output_type": "display_data"
    },
    {
     "data": {
      "image/png": "[encoded data removed]",
      "text/plain": [
       "<Figure size 1000x500 with 1 Axes>"
      ]
     },
     "metadata": {},
     "output_type": "display_data"
    }
   ],
   "source": [
    "import pandas as pd\n",
    "import matplotlib.pyplot as plt\n",
    "\n",
    "# Contoh data topik (sesuai data kamu)\n",
    "true_counts = {'politicsNews': 11272, 'worldnews': 10145}\n",
    "fake_counts = {'News': 9050, 'politics': 6841, 'left-news': 4459,\n",
    "               'Government News': 1570, 'US_News': 783, 'Middle-east': 778}\n",
    "\n",
    "# 1️⃣ Bar chart True News\n",
    "plt.figure(figsize=(8,5))\n",
    "plt.bar(true_counts.keys(), true_counts.values(), color='green')\n",
    "plt.title(\"Distribution of Topics in True News\")\n",
    "plt.xlabel(\"Topics\")\n",
    "plt.ylabel(\"Number of Articles\")\n",
    "plt.show()\n",
    "\n",
    "# 2️⃣ Bar chart Fake News\n",
    "plt.figure(figsize=(10,5))\n",
    "plt.bar(fake_counts.keys(), fake_counts.values(), color='red')\n",
    "plt.title(\"Distribution of Topics in Fake News\")\n",
    "plt.xlabel(\"Topics\")\n",
    "plt.ylabel(\"Number of Articles\")\n",
    "plt.xticks(rotation=45)\n",
    "plt.show()\n"
   ]
  },
  {
   "cell_type": "markdown",
   "id": "6b5cf0e3",
   "metadata": {},
   "source": [
    "3️⃣ If there is no 'subject' column, use keywords from 'title'"
   ]
  },
  {
   "cell_type": "code",
   "execution_count": 12,
   "id": "add29568",
   "metadata": {},
   "outputs": [
    {
     "name": "stdout",
     "output_type": "stream",
     "text": [
      "Top words in True news:\n",
      "[('s', 8399), ('to', 7819), ('trump', 5561), ('u', 4706), ('in', 4663), ('on', 3344), ('of', 3013), ('says', 2981), ('for', 2775), ('with', 1498)]\n",
      "\n",
      "Top words in Fake news:\n",
      "[('to', 9510), ('trump', 9338), ('video', 8477), ('s', 7712), ('the', 6306), ('of', 5168), ('for', 4833), ('in', 4718), ('a', 3786), ('on', 3688)]\n"
     ]
    }
   ],
   "source": [
    "from collections import Counter\n",
    "import re\n",
    "\n",
    "def get_keywords(text_series, top_n=10):\n",
    "    words = ' '.join(text_series).lower()\n",
    "    words = re.findall(r'\\b\\w+\\b', words)  # ambil kata\n",
    "    counter = Counter(words)\n",
    "    return counter.most_common(top_n)\n",
    "\n",
    "# Top words in True news\n",
    "print(\"Top words in True news:\")\n",
    "print(get_keywords(data[data['label']==1]['title']))\n",
    "\n",
    "# Top words in Fake news\n",
    "print(\"\\nTop words in Fake news:\")\n",
    "print(get_keywords(data[data['label']==0]['title']))"
   ]
  }
 ],
 "metadata": {
  "kernelspec": {
   "display_name": "newenv",
   "language": "python",
   "name": "python3"
  },
  "language_info": {
   "codemirror_mode": {
    "name": "ipython",
    "version": 3
   },
   "file_extension": ".py",
   "mimetype": "text/x-python",
   "name": "python",
   "nbconvert_exporter": "python",
   "pygments_lexer": "ipython3",
   "version": "3.11.13"
  }
 },
 "nbformat": 4,
 "nbformat_minor": 5
}
